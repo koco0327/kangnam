{
  "nbformat": 4,
  "nbformat_minor": 0,
  "metadata": {
    "colab": {
      "provenance": []
    },
    "kernelspec": {
      "name": "python3",
      "display_name": "Python 3"
    },
    "language_info": {
      "name": "python"
    }
  },
  "cells": [
    {
      "cell_type": "code",
      "execution_count": null,
      "metadata": {
        "colab": {
          "base_uri": "https://localhost:8080/"
        },
        "id": "xx6LUPyyU9EO",
        "outputId": "baf18021-20c1-4dda-b225-5a0abd998856"
      },
      "outputs": [
        {
          "output_type": "stream",
          "name": "stdout",
          "text": [
            "Mounted at /content/drive\n"
          ]
        }
      ],
      "source": [
        "from google.colab import drive        # Google Drive를 Colab에 연결해서 데이터 로딩하기\n",
        "drive.mount('/content/drive')         # 드라이브 마운트"
      ]
    },
    {
      "cell_type": "code",
      "source": [
        "from keras.preprocessing.image import ImageDataGenerator   #keras로부터 ImageDataGenerator를 불러옵니다\n",
        "import numpy as np\n",
        "import pandas as pd \n",
        "from keras.utils import to_categorical                     #데이터를 다루는데 필요한 라이브러리를 불러옵니다.\n",
        "from sklearn.model_selection import train_test_split\n",
        "import matplotlib.pyplot as plt\n",
        "import random\n",
        "import os\n",
        "print(os.listdir('/content/drive/MyDrive/deep_learning/팀플/data/'))   #os.listdir() 메서드는 경로 내에 있는 파일의 \n",
        "                                                                       #이름을 리스트의 형태로 반환합니다."
      ],
      "metadata": {
        "colab": {
          "base_uri": "https://localhost:8080/"
        },
        "id": "KPReF6JCVAza",
        "outputId": "fa5b023d-9dca-400e-9261-864d742a743d"
      },
      "execution_count": null,
      "outputs": [
        {
          "output_type": "stream",
          "name": "stdout",
          "text": [
            "['sampleSubmission.csv', 'test1.zip', 'train.zip']\n"
          ]
        }
      ]
    },
    {
      "cell_type": "code",
      "source": [
        "import zipfile\n",
        "train_zip = zipfile.ZipFile('/content/drive/MyDrive/deep_learning/팀플/data/train.zip')  #zipfile 라이브러리의 ZipFile 클래스로 ZIP 파일을 연 후에\n",
        "train_zip.extractall(\"/kaggle/working/dataset\")                                          #extractall() 메서드를 이용하여 kaggle/working/dataset 폴더에 압축을 풉니다.\n",
        "train_zip.close()                                                                        #종료 전 close를 호출하여 필수 레코드 기록\n",
        "\n",
        "train_zip = zipfile.ZipFile('/content/drive/MyDrive/deep_learning/팀플/data/test1.zip')\n",
        "train_zip.extractall(\"/kaggle/working/dataset\")\n",
        "train_zip.close()"
      ],
      "metadata": {
        "id": "hv4I0S-jVI4x"
      },
      "execution_count": null,
      "outputs": []
    },
    {
      "cell_type": "code",
      "source": [
        "filenames = os.listdir(\"/kaggle/working/dataset/train\")      #os.listdir() 메서드는 경로 내에 있는 파일의 이름을 리스트의 형태로 반환합니다.\n",
        "categories = []\n",
        "for filename in filenames:\n",
        "    category = filename.split('.')[0]\n",
        "    if category == 'dog':                           #dog는1 cat은0으로 분류합니다\n",
        "        categories.append(1)\n",
        "    else:\n",
        "        categories.append(0)\n",
        "\n",
        "df = pd.DataFrame({\n",
        "    'filename': filenames,\n",
        "    'category': categories\n",
        "})"
      ],
      "metadata": {
        "id": "oLDVu_t8VPdo"
      },
      "execution_count": null,
      "outputs": []
    },
    {
      "cell_type": "code",
      "source": [
        "df = df.sample(n=3000)    # DataFrame으로 부터 특정 개수의 표본을 3000개 추출하기 "
      ],
      "metadata": {
        "id": "CDAXK-YeVQNg"
      },
      "execution_count": null,
      "outputs": []
    },
    {
      "cell_type": "code",
      "source": [
        "# 데이터 형상 관련 상수 정의\n",
        "IMAGE_WIDTH=150                            #가로 150으로 설정\n",
        "IMAGE_HEIGHT=150                           #세로 150으로 설정\n",
        "IMAGE_SIZE=(IMAGE_WIDTH, IMAGE_HEIGHT)     #150x150의 크기\n",
        "IMAGE_CHANNELS=3"
      ],
      "metadata": {
        "id": "VMH8DgnvRzWb"
      },
      "execution_count": null,
      "outputs": []
    },
    {
      "cell_type": "code",
      "source": [
        "import tensorflow as tf                 #텐서플로를 import 해주고\n",
        "                                        #model에 순차적으로 레이어를 쌓아줌\n",
        "\n",
        "                                                                                                                   #tf.keras.models 모듈의 Sequential 클래스를 사용해서 인공신경망의 각 층을 순서대로 쌓아줌                                                            \n",
        "model = tf.keras.models.Sequential([                                                                               #add() 메서드를 이용해서 합성곱 층 Conv2D와 Max pooling 층 MaxPooling2D를 반복해서 구성 \n",
        "  tf.keras.layers.Conv2D(32, (3,3), activation='relu',  input_shape=(IMAGE_WIDTH, IMAGE_HEIGHT, IMAGE_CHANNELS)),  #첫번째 Conv2D 층의 첫번째 인자 32는 filters 값  #두번째 인자 (3, 3)은 kernel_size 값  ,활성화 함수는 relu 지정                                                                                                       \n",
        "  tf.keras.layers.Conv2D(64, (3,3), activation='relu'),                                                                           \n",
        "  tf.keras.layers.MaxPooling2D(2,2),                                                                               #풀링의 크기는 2X2로 설정\n",
        "  tf.keras.layers.Dropout(0.25),\n",
        "  tf.keras.layers.Conv2D(128, (3,3), activation='relu'),\n",
        "  tf.keras.layers.MaxPooling2D(2,2),\n",
        "  tf.keras.layers.Flatten(),\n",
        "  tf.keras.layers.Dense(2, activation='sigmoid')\n",
        "])\n",
        "\n",
        "model.summary()             #summary() 메서드를 이용해서 지금까지 구성한 신경망에 대한 정보를 출력"
      ],
      "metadata": {
        "colab": {
          "base_uri": "https://localhost:8080/"
        },
        "id": "FlDrn1U60uDD",
        "outputId": "b1a515c3-f397-491a-c0cf-64160ccdda9a"
      },
      "execution_count": null,
      "outputs": [
        {
          "output_type": "stream",
          "name": "stdout",
          "text": [
            "Model: \"sequential\"\n",
            "_________________________________________________________________\n",
            " Layer (type)                Output Shape              Param #   \n",
            "=================================================================\n",
            " conv2d (Conv2D)             (None, 148, 148, 32)      896       \n",
            "                                                                 \n",
            " conv2d_1 (Conv2D)           (None, 146, 146, 64)      18496     \n",
            "                                                                 \n",
            " max_pooling2d (MaxPooling2D  (None, 73, 73, 64)       0         \n",
            " )                                                               \n",
            "                                                                 \n",
            " dropout (Dropout)           (None, 73, 73, 64)        0         \n",
            "                                                                 \n",
            " conv2d_2 (Conv2D)           (None, 71, 71, 128)       73856     \n",
            "                                                                 \n",
            " max_pooling2d_1 (MaxPooling  (None, 35, 35, 128)      0         \n",
            " 2D)                                                             \n",
            "                                                                 \n",
            " flatten (Flatten)           (None, 156800)            0         \n",
            "                                                                 \n",
            " dense (Dense)               (None, 2)                 313602    \n",
            "                                                                 \n",
            "=================================================================\n",
            "Total params: 406,850\n",
            "Trainable params: 406,850\n",
            "Non-trainable params: 0\n",
            "_________________________________________________________________\n"
          ]
        }
      ]
    },
    {
      "cell_type": "code",
      "source": [
        "from tensorflow.keras.optimizers import RMSprop         #변화량이 더 클수록 학습률이 작아져서\n",
        "                                                        #조기 종료되는 문제를 해결하기 위해 학습률 크기를 비율로 조정할 수 있어서 RMSprop사용\n",
        "model.compile(optimizer=RMSprop(lr=0.001),              #학습률 같은 경우 일반적으로 0.01을 사용함\n",
        "            loss='categorical_crossentropy',            #손실함수로는 categorical_crossentropy 사용함\n",
        "            metrics = ['accuracy'])"
      ],
      "metadata": {
        "id": "O4P9N9UR3KAO",
        "colab": {
          "base_uri": "https://localhost:8080/"
        },
        "outputId": "d26a4f75-024d-4d96-d986-61640544fb5e"
      },
      "execution_count": null,
      "outputs": [
        {
          "output_type": "stream",
          "name": "stderr",
          "text": [
            "/usr/local/lib/python3.8/dist-packages/keras/optimizers/optimizer_v2/rmsprop.py:135: UserWarning: The `lr` argument is deprecated, use `learning_rate` instead.\n",
            "  super(RMSprop, self).__init__(name, **kwargs)\n"
          ]
        }
      ]
    },
    {
      "cell_type": "code",
      "source": [
        "# 이미지 제너레이터에서 class_mode = \"categorical\"로 지정하기 위해 컬럼 카테고리를 스트링으로 변경함.\n",
        "df[\"category\"] = df[\"category\"].replace({0: 'cat', 1: 'dog'})       #cat는 0 , dog는 1을 반환함"
      ],
      "metadata": {
        "id": "c-mKcd3aEJIk"
      },
      "execution_count": null,
      "outputs": []
    },
    {
      "cell_type": "code",
      "source": [
        "#test , train 데이터 분리 \n",
        "train_df, validate_df = train_test_split(df, test_size=0.3333, random_state=42)\n",
        "train_df = train_df.reset_index(drop=True)\n",
        "validate_df = validate_df.reset_index(drop=True)"
      ],
      "metadata": {
        "id": "tVoXtIMqDoSG"
      },
      "execution_count": null,
      "outputs": []
    },
    {
      "cell_type": "code",
      "source": [
        "total_train = train_df.shape[0]\n",
        "total_validate = validate_df.shape[0]\n",
        "batch_size=15"
      ],
      "metadata": {
        "id": "VDNJM7VMD_dQ"
      },
      "execution_count": null,
      "outputs": []
    },
    {
      "cell_type": "code",
      "source": [
        "#이미지 데이터 전처리\n",
        "#트레이닝 데이터의 제너레이터 설정\n",
        "\n",
        "train_datagen = ImageDataGenerator(\n",
        "    rotation_range=15,      #rotation_range는 랜덤하게 사진을 회전시킬 각도 범위\n",
        "    rescale=1./255,         #이미지를 1/255로 스케일을 조정 \n",
        "    shear_range=0.1,        #shear_range는 랜덤하게 전단 변환을 적용할 각도 범위 \n",
        "    zoom_range=0.2,         #zoom_range는 랜덤하게 사진을 확대할 범위\n",
        "    horizontal_flip=True,   #horizontal_flip은 랜덤하게 이미지를 수평으로 뒤집는다./수평 대칭을 가정할 수 있을 때 사용\n",
        "    width_shift_range=0.1,  #width_shift_range와 \n",
        "    height_shift_range=0.1  #height_shift_range는 사진을 수평과 수직으로 랜덤하게 평행 이동시킬 범위\n",
        ")\n",
        "\n",
        "train_generator = train_datagen.flow_from_dataframe(\n",
        "    train_df, \n",
        "    \"/kaggle/working/dataset/train\", \n",
        "    x_col='filename',                   # filename를 열이름\n",
        "    y_col='category',                   # category를 열이름\n",
        "    target_size=IMAGE_SIZE,             #이미지 사이즈\n",
        "    class_mode='categorical',           #y값 변화방법\n",
        "    batch_size=batch_size               #배치사이즈\n",
        ")\n"
      ],
      "metadata": {
        "colab": {
          "base_uri": "https://localhost:8080/"
        },
        "id": "_W9yAcdl3ZME",
        "outputId": "e2daf6fc-d8ec-4541-9e14-59a4ab6a4e86"
      },
      "execution_count": null,
      "outputs": [
        {
          "output_type": "stream",
          "name": "stdout",
          "text": [
            "Found 2000 validated image filenames belonging to 2 classes.\n"
          ]
        }
      ]
    },
    {
      "cell_type": "code",
      "source": [
        "# Validation Generator\n",
        "validation_datagen = ImageDataGenerator(rescale=1./255)         #이미지를 1/255로 스케일을 조정\n",
        "validation_generator = validation_datagen.flow_from_dataframe(\n",
        "    validate_df, \n",
        "    \"/kaggle/working/dataset/train\", \n",
        "    x_col='filename',\n",
        "    y_col='category',\n",
        "    target_size=IMAGE_SIZE,\n",
        "    class_mode='categorical',\n",
        "    batch_size=batch_size\n",
        ")"
      ],
      "metadata": {
        "colab": {
          "base_uri": "https://localhost:8080/"
        },
        "id": "kTeZoOr83vKZ",
        "outputId": "e2695834-28ec-48e8-e0af-e5005f9ee494"
      },
      "execution_count": null,
      "outputs": [
        {
          "output_type": "stream",
          "name": "stdout",
          "text": [
            "Found 1000 validated image filenames belonging to 2 classes.\n"
          ]
        }
      ]
    },
    {
      "cell_type": "code",
      "source": [
        "epochs=10                                  #에포크는 10으로 지정\n",
        "history = model.fit_generator(\n",
        "    train_generator,                                #훈련데이터셋을 제공할 제네레이터를 train_generator으로 지정\n",
        "    epochs=epochs,                                  #전체 훈련 데이터셋에 대해 학습 반복 횟수를 지정\n",
        "    validation_data=validation_generator,           #검증데이터셋을 제공할 제네레이터를 validation_generator으로 지정\n",
        "    validation_steps=total_validate//batch_size,    #한 epoch 종료 시 마다 검증할 때 사용되는 검증 스텝 수를 지정\n",
        "    steps_per_epoch=total_train//batch_size,\n",
        "    verbose = 1\n",
        ")"
      ],
      "metadata": {
        "colab": {
          "base_uri": "https://localhost:8080/"
        },
        "id": "JMIorVX43KEn",
        "outputId": "a967c134-aaf9-47c3-e9ae-35b619033e72"
      },
      "execution_count": null,
      "outputs": [
        {
          "output_type": "stream",
          "name": "stderr",
          "text": [
            "<ipython-input-15-76eee772cb9b>:2: UserWarning: `Model.fit_generator` is deprecated and will be removed in a future version. Please use `Model.fit`, which supports generators.\n",
            "  history = model.fit_generator(\n"
          ]
        },
        {
          "output_type": "stream",
          "name": "stdout",
          "text": [
            "Epoch 1/10\n",
            "133/133 [==============================] - 327s 2s/step - loss: 1.1305 - accuracy: 0.5174 - val_loss: 0.7068 - val_accuracy: 0.5758\n",
            "Epoch 2/10\n",
            "133/133 [==============================] - 322s 2s/step - loss: 0.7191 - accuracy: 0.5763 - val_loss: 0.6835 - val_accuracy: 0.5616\n",
            "Epoch 3/10\n",
            "133/133 [==============================] - 312s 2s/step - loss: 0.6875 - accuracy: 0.5929 - val_loss: 0.6482 - val_accuracy: 0.6374\n",
            "Epoch 4/10\n",
            "133/133 [==============================] - 317s 2s/step - loss: 0.6648 - accuracy: 0.6322 - val_loss: 0.6565 - val_accuracy: 0.6303\n",
            "Epoch 5/10\n",
            "133/133 [==============================] - 314s 2s/step - loss: 0.6442 - accuracy: 0.6312 - val_loss: 0.6352 - val_accuracy: 0.6768\n",
            "Epoch 6/10\n",
            "133/133 [==============================] - 309s 2s/step - loss: 0.6202 - accuracy: 0.6761 - val_loss: 0.7656 - val_accuracy: 0.5758\n",
            "Epoch 7/10\n",
            "133/133 [==============================] - 312s 2s/step - loss: 0.6097 - accuracy: 0.6710 - val_loss: 0.6508 - val_accuracy: 0.6485\n",
            "Epoch 8/10\n",
            "133/133 [==============================] - 313s 2s/step - loss: 0.5935 - accuracy: 0.7053 - val_loss: 0.5766 - val_accuracy: 0.7081\n",
            "Epoch 9/10\n",
            "133/133 [==============================] - 311s 2s/step - loss: 0.5760 - accuracy: 0.6947 - val_loss: 0.5623 - val_accuracy: 0.7172\n",
            "Epoch 10/10\n",
            "133/133 [==============================] - 316s 2s/step - loss: 0.5617 - accuracy: 0.7168 - val_loss: 0.5703 - val_accuracy: 0.7081\n"
          ]
        }
      ]
    },
    {
      "cell_type": "code",
      "source": [
        "import matplotlib.pyplot as plt\n",
        "#트레이닝 모델 히스토리 시각화\n",
        "\n",
        "#아래 항목들은 매 epoch 마다의 값들이 저장되어 있습니다.\n",
        "#acc : 훈련 정확도\n",
        "#val_acc : 검증 정확도\n",
        "#loss : 훈련 손실값\n",
        "#val_loss : 검증 손실값\n",
        "\n",
        "acc = history.history['accuracy']\n",
        "val_acc = history.history['val_accuracy']\n",
        "loss = history.history['loss']\n",
        "val_loss = history.history['val_loss']\n",
        "\n",
        "epochs = range(len(acc))\n",
        "\n",
        "#Training accuracy , Validation accuracy 시각화\n",
        "plt.plot(epochs, acc, 'bo', label='Training accuracy')\n",
        "plt.plot(epochs, val_acc, 'b', label='Validation accuracy')\n",
        "plt.title('Training and validation accuracy')\n",
        "plt.legend()\n",
        "\n",
        "plt.figure()\n",
        "\n",
        "#Training Loss , Validation Loss 시각화\n",
        "plt.plot(epochs, loss, 'go', label='Training Loss')\n",
        "plt.plot(epochs, val_loss, 'g', label='Validation Loss')\n",
        "plt.title('Training and validation loss')\n",
        "plt.legend()\n",
        "\n",
        "plt.show()    #그래프와 점으로 보여줌"
      ],
      "metadata": {
        "id": "B0ts0-U2ELL6",
        "colab": {
          "base_uri": "https://localhost:8080/",
          "height": 545
        },
        "outputId": "264a107b-b777-4b9e-d372-88ee82c8a8ac"
      },
      "execution_count": null,
      "outputs": [
        {
          "output_type": "display_data",
          "data": {
            "text/plain": [
              "<Figure size 432x288 with 1 Axes>"
            ],
            "image/png": "[encoded data removed]"
          },
          "metadata": {
            "needs_background": "light"
          }
        },
        {
          "output_type": "display_data",
          "data": {
            "text/plain": [
              "<Figure size 432x288 with 1 Axes>"
            ],
            "image/png": "[encoded data removed]"
          },
          "metadata": {
            "needs_background": "light"
          }
        }
      ]
    },
    {
      "cell_type": "markdown",
      "source": [
        "## submission"
      ],
      "metadata": {
        "id": "Yt1lqj3PGAMA"
      }
    },
    {
      "cell_type": "code",
      "source": [
        "submission = pd.read_csv('/content/drive/MyDrive/deep_learning/팀플/data/sampleSubmission.csv')"
      ],
      "metadata": {
        "id": "Cd74fQp1F8Sq"
      },
      "execution_count": null,
      "outputs": []
    },
    {
      "cell_type": "code",
      "source": [
        "test = os.listdir(\"/kaggle/working/dataset/test1\")\n",
        "\n",
        "test_df = pd.DataFrame({'filename': test})\n",
        "\n",
        "nb_samples = test_df.shape[0]"
      ],
      "metadata": {
        "id": "JVT1-Ys-FkuJ"
      },
      "execution_count": null,
      "outputs": []
    },
    {
      "cell_type": "code",
      "source": [
        "test_gen = ImageDataGenerator(rescale=1./255)\n",
        "test_generator = test_gen.flow_from_dataframe(\n",
        "    test_df, \n",
        "    \"/kaggle/working/dataset/test1/\", \n",
        "    x_col='filename',\n",
        "    y_col=None,\n",
        "    class_mode=None,\n",
        "    target_size=IMAGE_SIZE,\n",
        "    batch_size=batch_size,\n",
        "    shuffle=False\n",
        ")"
      ],
      "metadata": {
        "colab": {
          "base_uri": "https://localhost:8080/"
        },
        "id": "tQhqZGbUI3ha",
        "outputId": "8ed5f0a5-0a47-45ec-a8ea-7e605e862419"
      },
      "execution_count": null,
      "outputs": [
        {
          "output_type": "stream",
          "name": "stdout",
          "text": [
            "Found 12500 validated image filenames.\n"
          ]
        }
      ]
    },
    {
      "cell_type": "code",
      "source": [
        "# 예측진행\n",
        "predict = model.predict_generator(test_generator, steps=np.ceil(nb_samples/batch_size))"
      ],
      "metadata": {
        "colab": {
          "base_uri": "https://localhost:8080/"
        },
        "id": "SYii11rmD1yQ",
        "outputId": "a215bc82-fb4b-4d3a-fdfe-be288aaf67a8"
      },
      "execution_count": null,
      "outputs": [
        {
          "output_type": "stream",
          "name": "stderr",
          "text": [
            "<ipython-input-20-52619fd72ccc>:1: UserWarning: `Model.predict_generator` is deprecated and will be removed in a future version. Please use `Model.predict`, which supports generators.\n",
            "  predict = model.predict_generator(test_generator, steps=np.ceil(nb_samples/batch_size))\n"
          ]
        }
      ]
    },
    {
      "cell_type": "code",
      "source": [
        "test_df['category'] = np.argmax(predict, axis=-1)"
      ],
      "metadata": {
        "id": "5uBeSiTPKVFl"
      },
      "execution_count": null,
      "outputs": []
    },
    {
      "cell_type": "code",
      "source": [
        "label_map = dict((v,k) for k,v in train_generator.class_indices.items())\n",
        "test_df['category'] = test_df['category'].replace(label_map)"
      ],
      "metadata": {
        "id": "WYTKrfITKVHw"
      },
      "execution_count": null,
      "outputs": []
    },
    {
      "cell_type": "code",
      "source": [
        "# 컬럼 카테고리를 스트링으로 변경함.\n",
        "#cat는 0 , dog는 1을 반환함\n",
        "test_df['category'] = test_df['category'].replace({ 'dog': 1, 'cat': 0 })"
      ],
      "metadata": {
        "id": "Tq8DaSBCKVJ4"
      },
      "execution_count": null,
      "outputs": []
    },
    {
      "cell_type": "code",
      "source": [
        "test_df['category'].value_counts().plot.bar()"
      ],
      "metadata": {
        "colab": {
          "base_uri": "https://localhost:8080/",
          "height": 280
        },
        "id": "DpIqAwM6KVLl",
        "outputId": "9dcceb60-ddda-4259-c201-3f18fc5d7382"
      },
      "execution_count": null,
      "outputs": [
        {
          "output_type": "execute_result",
          "data": {
            "text/plain": [
              "<matplotlib.axes._subplots.AxesSubplot at 0x7f025eb36af0>"
            ]
          },
          "metadata": {},
          "execution_count": 24
        },
        {
          "output_type": "display_data",
          "data": {
            "text/plain": [
              "<Figure size 432x288 with 1 Axes>"
            ],
            "image/png": "[encoded data removed]"
          },
          "metadata": {
            "needs_background": "light"
          }
        }
      ]
    },
    {
      "cell_type": "code",
      "source": [
        "# submission에 저장\n",
        "submission_df = test_df.copy()\n",
        "submission_df['id'] = submission_df['filename'].str.split('.').str[0]  # submission의 id 부분 생성\n",
        "submission_df['label'] = submission_df['category']                     # submission의 label 부분 생성\n",
        "submission_df.drop(['filename', 'category'], axis=1, inplace=True)     # 기존 열 삭제"
      ],
      "metadata": {
        "id": "rsLPKv_od2wK"
      },
      "execution_count": null,
      "outputs": []
    },
    {
      "cell_type": "code",
      "source": [
        "submission_df # 내부 확인"
      ],
      "metadata": {
        "colab": {
          "base_uri": "https://localhost:8080/",
          "height": 424
        },
        "id": "7c4k2Q5dKgFP",
        "outputId": "61d3b0a3-4fa9-4ee2-9c47-194cc825d856"
      },
      "execution_count": null,
      "outputs": [
        {
          "output_type": "execute_result",
          "data": {
            "text/plain": [
              "          id  label\n",
              "0       7083      1\n",
              "1       9125      0\n",
              "2       7560      0\n",
              "3       9368      0\n",
              "4      10137      0\n",
              "...      ...    ...\n",
              "12495   6143      0\n",
              "12496   6562      0\n",
              "12497   8794      1\n",
              "12498   2453      0\n",
              "12499   4770      0\n",
              "\n",
              "[12500 rows x 2 columns]"
            ],
            "text/html": [
              "\n",
              "  <div id=\"df-b7531bb9-7974-4d6d-a0b9-096e1963578e\">\n",
              "    <div class=\"colab-df-container\">\n",
              "      <div>\n",
              "<style scoped>\n",
              "    .dataframe tbody tr th:only-of-type {\n",
              "        vertical-align: middle;\n",
              "    }\n",
              "\n",
              "    .dataframe tbody tr th {\n",
              "        vertical-align: top;\n",
              "    }\n",
              "\n",
              "    .dataframe thead th {\n",
              "        text-align: right;\n",
              "    }\n",
              "</style>\n",
              "<table border=\"1\" class=\"dataframe\">\n",
              "  <thead>\n",
              "    <tr style=\"text-align: right;\">\n",
              "      <th></th>\n",
              "      <th>id</th>\n",
              "      <th>label</th>\n",
              "    </tr>\n",
              "  </thead>\n",
              "  <tbody>\n",
              "    <tr>\n",
              "      <th>0</th>\n",
              "      <td>7083</td>\n",
              "      <td>1</td>\n",
              "    </tr>\n",
              "    <tr>\n",
              "      <th>1</th>\n",
              "      <td>9125</td>\n",
              "      <td>0</td>\n",
              "    </tr>\n",
              "    <tr>\n",
              "      <th>2</th>\n",
              "      <td>7560</td>\n",
              "      <td>0</td>\n",
              "    </tr>\n",
              "    <tr>\n",
              "      <th>3</th>\n",
              "      <td>9368</td>\n",
              "      <td>0</td>\n",
              "    </tr>\n",
              "    <tr>\n",
              "      <th>4</th>\n",
              "      <td>10137</td>\n",
              "      <td>0</td>\n",
              "    </tr>\n",
              "    <tr>\n",
              "      <th>...</th>\n",
              "      <td>...</td>\n",
              "      <td>...</td>\n",
              "    </tr>\n",
              "    <tr>\n",
              "      <th>12495</th>\n",
              "      <td>6143</td>\n",
              "      <td>0</td>\n",
              "    </tr>\n",
              "    <tr>\n",
              "      <th>12496</th>\n",
              "      <td>6562</td>\n",
              "      <td>0</td>\n",
              "    </tr>\n",
              "    <tr>\n",
              "      <th>12497</th>\n",
              "      <td>8794</td>\n",
              "      <td>1</td>\n",
              "    </tr>\n",
              "    <tr>\n",
              "      <th>12498</th>\n",
              "      <td>2453</td>\n",
              "      <td>0</td>\n",
              "    </tr>\n",
              "    <tr>\n",
              "      <th>12499</th>\n",
              "      <td>4770</td>\n",
              "      <td>0</td>\n",
              "    </tr>\n",
              "  </tbody>\n",
              "</table>\n",
              "<p>12500 rows × 2 columns</p>\n",
              "</div>\n",
              "      <button class=\"colab-df-convert\" onclick=\"convertToInteractive('df-b7531bb9-7974-4d6d-a0b9-096e1963578e')\"\n",
              "              title=\"Convert this dataframe to an interactive table.\"\n",
              "              style=\"display:none;\">\n",
              "        \n",
              "  <svg xmlns=\"http://www.w3.org/2000/svg\" height=\"24px\"viewBox=\"0 0 24 24\"\n",
              "       width=\"24px\">\n",
              "    <path d=\"M0 0h24v24H0V0z\" fill=\"none\"/>\n",
              "    <path d=\"M18.56 5.44l.94 2.06.94-2.06 2.06-.94-2.06-.94-.94-2.06-.94 2.06-2.06.94zm-11 1L8.5 8.5l.94-2.06 2.06-.94-2.06-.94L8.5 2.5l-.94 2.06-2.06.94zm10 10l.94 2.06.94-2.06 2.06-.94-2.06-.94-.94-2.06-.94 2.06-2.06.94z\"/><path d=\"M17.41 7.96l-1.37-1.37c-.4-.4-.92-.59-1.43-.59-.52 0-1.04.2-1.43.59L10.3 9.45l-7.72 7.72c-.78.78-.78 2.05 0 2.83L4 21.41c.39.39.9.59 1.41.59.51 0 1.02-.2 1.41-.59l7.78-7.78 2.81-2.81c.8-.78.8-2.07 0-2.86zM5.41 20L4 18.59l7.72-7.72 1.47 1.35L5.41 20z\"/>\n",
              "  </svg>\n",
              "      </button>\n",
              "      \n",
              "  <style>\n",
              "    .colab-df-container {\n",
              "      display:flex;\n",
              "      flex-wrap:wrap;\n",
              "      gap: 12px;\n",
              "    }\n",
              "\n",
              "    .colab-df-convert {\n",
              "      background-color: #E8F0FE;\n",
              "      border: none;\n",
              "      border-radius: 50%;\n",
              "      cursor: pointer;\n",
              "      display: none;\n",
              "      fill: #1967D2;\n",
              "      height: 32px;\n",
              "      padding: 0 0 0 0;\n",
              "      width: 32px;\n",
              "    }\n",
              "\n",
              "    .colab-df-convert:hover {\n",
              "      background-color: #E2EBFA;\n",
              "      box-shadow: 0px 1px 2px rgba(60, 64, 67, 0.3), 0px 1px 3px 1px rgba(60, 64, 67, 0.15);\n",
              "      fill: #174EA6;\n",
              "    }\n",
              "\n",
              "    [theme=dark] .colab-df-convert {\n",
              "      background-color: #3B4455;\n",
              "      fill: #D2E3FC;\n",
              "    }\n",
              "\n",
              "    [theme=dark] .colab-df-convert:hover {\n",
              "      background-color: #434B5C;\n",
              "      box-shadow: 0px 1px 3px 1px rgba(0, 0, 0, 0.15);\n",
              "      filter: drop-shadow(0px 1px 2px rgba(0, 0, 0, 0.3));\n",
              "      fill: #FFFFFF;\n",
              "    }\n",
              "  </style>\n",
              "\n",
              "      <script>\n",
              "        const buttonEl =\n",
              "          document.querySelector('#df-b7531bb9-7974-4d6d-a0b9-096e1963578e button.colab-df-convert');\n",
              "        buttonEl.style.display =\n",
              "          google.colab.kernel.accessAllowed ? 'block' : 'none';\n",
              "\n",
              "        async function convertToInteractive(key) {\n",
              "          const element = document.querySelector('#df-b7531bb9-7974-4d6d-a0b9-096e1963578e');\n",
              "          const dataTable =\n",
              "            await google.colab.kernel.invokeFunction('convertToInteractive',\n",
              "                                                     [key], {});\n",
              "          if (!dataTable) return;\n",
              "\n",
              "          const docLinkHtml = 'Like what you see? Visit the ' +\n",
              "            '<a target=\"_blank\" href=https://colab.research.google.com/notebooks/data_table.ipynb>data table notebook</a>'\n",
              "            + ' to learn more about interactive tables.';\n",
              "          element.innerHTML = '';\n",
              "          dataTable['output_type'] = 'display_data';\n",
              "          await google.colab.output.renderOutput(dataTable, element);\n",
              "          const docLink = document.createElement('div');\n",
              "          docLink.innerHTML = docLinkHtml;\n",
              "          element.appendChild(docLink);\n",
              "        }\n",
              "      </script>\n",
              "    </div>\n",
              "  </div>\n",
              "  "
            ]
          },
          "metadata": {},
          "execution_count": 26
        }
      ]
    },
    {
      "cell_type": "code",
      "source": [
        "submission_df.to_csv('/content/drive/MyDrive/deep_learning/팀플/submission.csv', index=False) # csv 파일 생성"
      ],
      "metadata": {
        "id": "fiByV_nzNLTj"
      },
      "execution_count": null,
      "outputs": []
    }
  ]
}